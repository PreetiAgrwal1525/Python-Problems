{
 "cells": [
  {
   "cell_type": "code",
   "execution_count": 21,
   "id": "acb642b7",
   "metadata": {},
   "outputs": [
    {
     "name": "stdout",
     "output_type": "stream",
     "text": [
      "Please Give a number 7\n",
      "Number is prime\n"
     ]
    }
   ],
   "source": [
    "#WAP TO WETHER THE GIVEN NUMBER IS PRIME OR NOT\n",
    "# NUMBER SHOULD BE DIVISIBLE BY 1 OR ITSELF \n",
    "#taking input\n",
    "\n",
    "n = int(input(\"Please Give a number \"))\n",
    "temp = 0\n",
    "\n",
    "for i in range(2,n//2):\n",
    "    if n%i == 0:\n",
    "        temp = 1\n",
    "        break\n",
    "if temp==1:\n",
    "    print(\"Number is not prime\")\n",
    "else:\n",
    "    print(\"Number is prime\")\n",
    "        "
   ]
  },
  {
   "cell_type": "code",
   "execution_count": 6,
   "id": "f827b322",
   "metadata": {},
   "outputs": [
    {
     "name": "stdout",
     "output_type": "stream",
     "text": [
      "Please Give a number 100\n",
      "Number is not prime\n"
     ]
    }
   ],
   "source": [
    "9"
   ]
  },
  {
   "cell_type": "code",
   "execution_count": 11,
   "id": "81419fa3",
   "metadata": {},
   "outputs": [
    {
     "name": "stdout",
     "output_type": "stream",
     "text": [
      "Give a number14556\n",
      "it's not palindrome\n"
     ]
    }
   ],
   "source": [
    "#WAP TO CHECK IF NUMBER IS PALINDROME \n",
    "#  NUMBER MUST BE SAME WHILE WE REVERSE\n",
    "\n",
    "n=int(input(\"Give a number\"))\n",
    "rev, temp=0,n\n",
    "\n",
    "while temp!=0:\n",
    "    rev=rev*10+temp%10\n",
    "    temp = temp//10\n",
    "    \n",
    "if rev==n:\n",
    "    print(\"it's Palindrome\")\n",
    "else:\n",
    "    print(\"it's not palindrome\")\n",
    "    \n",
    "    \n",
    "            "
   ]
  },
  {
   "cell_type": "code",
   "execution_count": 13,
   "id": "5aefc19f",
   "metadata": {},
   "outputs": [
    {
     "name": "stdout",
     "output_type": "stream",
     "text": [
      "How many terms1\n",
      "Fibonacci sequence upto 1\n",
      "0\n"
     ]
    }
   ],
   "source": [
    "# WAP TO PRINT FIBONACCI SERIES\n",
    "# STARTS WITH 0,1 -- NEXT NUMBER WILL BE SUM OF LAST 2 NUMBER \n",
    "# INPUT FROM THE USER-- (LIMIT OF SERIES) UPTO HOW MANY NUMBERS DO YOU WANT TO PRINT \n",
    "\n",
    "nterms= int(input(\"How many terms\"))\n",
    "\n",
    "n1,n2=0,1\n",
    "count=0\n",
    "\n",
    "if nterms <= 0:\n",
    "    print(\"please enter a positive number\")\n",
    "elif nterms == 1:\n",
    "    print(\"Fibonacci sequence upto\", nterms)\n",
    "    print(n1)\n",
    "else:\n",
    "    print(\"Fibonacci series is\")\n",
    "    while count < nterms:\n",
    "        print(n1)\n",
    "        nth = n1 + n2\n",
    "        n1 = n2\n",
    "        n2 = nth\n",
    "        count = count + 1\n",
    "        \n"
   ]
  },
  {
   "cell_type": "code",
   "execution_count": 15,
   "id": "428e4e75",
   "metadata": {},
   "outputs": [
    {
     "name": "stdout",
     "output_type": "stream",
     "text": [
      "Enter the number356\n",
      "356  is not armstrong number\n"
     ]
    }
   ],
   "source": [
    "# WAP TO CHECK WETHER A NUMBER IS IS ARMSTRONG OR NOT \n",
    "# SUM OF CUBE OF EACH DIGIT OF THE NUMBER = SUM OF EACH DIGIT OF NUMBER (EG 153=, 1*1*1+5*5*5+3*3*3=1+125+27=153)\n",
    "\n",
    "num= int(input(\"Enter the number\"))\n",
    "sum=0\n",
    "tp=num\n",
    "digit =0\n",
    "\n",
    "while tp>0:\n",
    "    digit =tp%10\n",
    "    sum=sum+(digit**3)\n",
    "    tp=tp//10\n",
    "if num==sum:\n",
    "    print(num,\" is an armstrong number\")\n",
    "else:\n",
    "    print(num,\" is not armstrong number\")"
   ]
  },
  {
   "cell_type": "code",
   "execution_count": 18,
   "id": "db992f1f",
   "metadata": {},
   "outputs": [
    {
     "name": "stdout",
     "output_type": "stream",
     "text": [
      "give limit8\n",
      "*  \n",
      "*  *  \n",
      "*  *  *  \n",
      "*  *  *  *  \n",
      "*  *  *  *  *  \n",
      "*  *  *  *  *  *  \n",
      "*  *  *  *  *  *  *  \n",
      "*  *  *  *  *  *  *  *  \n"
     ]
    }
   ],
   "source": [
    "# WAP TO PRINT THE FOLLOWING PATTERN\n",
    "# *\n",
    "# * *\n",
    "# * * *\n",
    "# * * * *\n",
    "# * * * * *\n",
    "n=int(input(\"give limit\"))\n",
    "for i in range(0,n):\n",
    "    for j in range(0,i+1):\n",
    "        print(\"*\",end=\"  \")\n",
    "    print(\"\\r\")\n",
    "        \n",
    "\n"
   ]
  },
  {
   "cell_type": "code",
   "execution_count": 22,
   "id": "c5178d4e",
   "metadata": {},
   "outputs": [
    {
     "name": "stdout",
     "output_type": "stream",
     "text": [
      "1\n"
     ]
    }
   ],
   "source": [
    "n=1%10\n",
    "print(n)"
   ]
  },
  {
   "cell_type": "code",
   "execution_count": 23,
   "id": "8288e15d",
   "metadata": {},
   "outputs": [
    {
     "name": "stdout",
     "output_type": "stream",
     "text": [
      "0\n"
     ]
    }
   ],
   "source": [
    "n=1//10\n",
    "print(n)"
   ]
  },
  {
   "cell_type": "code",
   "execution_count": null,
   "id": "2a8ffe9c",
   "metadata": {},
   "outputs": [],
   "source": []
  }
 ],
 "metadata": {
  "kernelspec": {
   "display_name": "Python 3 (ipykernel)",
   "language": "python",
   "name": "python3"
  },
  "language_info": {
   "codemirror_mode": {
    "name": "ipython",
    "version": 3
   },
   "file_extension": ".py",
   "mimetype": "text/x-python",
   "name": "python",
   "nbconvert_exporter": "python",
   "pygments_lexer": "ipython3",
   "version": "3.9.12"
  }
 },
 "nbformat": 4,
 "nbformat_minor": 5
}
